{
 "cells": [
  {
   "cell_type": "markdown",
   "id": "d922137a",
   "metadata": {},
   "source": [
    "# SNN training through PyTorch\n",
    "\n",
    "With the previous tutorials we have seen how to build a network and run a simulation. These are the necessary elements to start with in order to set up a network for the training towards the classification task, using an externally-provided dataset."
   ]
  },
  {
   "cell_type": "markdown",
   "id": "790dbe38",
   "metadata": {},
   "source": [
    "## Data\n",
    "\n",
    "We provided a few utilities that come useful to set up a classification training, borrowing the available functions from Torch and TorchVision.\n",
    "In particular, we will demonstrate how to train a network by use of a subset of the MNIST dataset.\n",
    "\n",
    "### Download\n",
    "We start loading the dataset, using the `TorchVisionDataLoader` utility.\n",
    "We also select a subset of the entire dataset, just in order to speed-up the calculation.\n",
    "Also for sake of computation requirement, we manually downsize all the data from a 28x28 based set of figures, to a 14x14 based set of figures."
   ]
  },
  {
   "cell_type": "code",
   "execution_count": 16,
   "id": "136e503d",
   "metadata": {},
   "outputs": [],
   "source": [
    "import sys\n",
    "sys.path.append('C:\\\\') # to be edited by the user\n",
    "\n",
    "from SHIP import TorchVisionDataLoader as DL\n",
    "from torch import (randperm,\n",
    "                   tensor,\n",
    "                   arange)\n",
    "\n",
    "xtrain,ytrain,xtest,ytest = DL('MNIST',standardize = True) #<-- small utility - info on TorchVisionDataLoader in code\n",
    "\n",
    "### select part of the dataset (raw'n'dirty approach)\n",
    "idx_tr = randperm(ytrain.shape[0])[:15000] # <-- reduce dataset here\n",
    "idx_te = randperm(ytest.shape[0])[:1000]  # <-- same goes here\n",
    "xtrain,ytrain,xtest,ytest = xtrain[idx_tr],ytrain[idx_tr],xtest[idx_te],ytest[idx_te] # <-- apply masks\n",
    "\n",
    "### manual convolution\n",
    "_a = tensor([0,1,28,29]);_m = 2; _idx = arange(196).unsqueeze(-1).expand(196,4); \n",
    "convmap = 28*(_idx//14)+(_m*_idx+_a)\n",
    "                  \n",
    "xtest = xtest[:,convmap].sum(dim=-1).float()\n",
    "xtrain = xtrain[:,convmap].sum(dim=-1).float()"
   ]
  },
  {
   "cell_type": "markdown",
   "id": "a2f244b1",
   "metadata": {},
   "source": [
    "### Encode data onto a spiking dataset\n",
    "SHIP comes with a couple of utils that allow for a fast conversion of an intensity-based dataset onto a spiking dataset, via use of the time-to-first-spike technique and rate-coding technique.\n",
    "\n",
    "Here we use the former, `TTFSencoder`, only due to the fact that it is relatively less computationally-intensive than the rate-coding based technique. \n",
    "We note that at this stage we already have to choose the number and size of time-steps, as the encoder asks for this parameter to determine the length of the input.\n",
    "\n",
    "Here's the example:"
   ]
  },
  {
   "cell_type": "code",
   "execution_count": 17,
   "id": "2eebc4ab",
   "metadata": {},
   "outputs": [],
   "source": [
    "batch_size = 4 # <-- added for good measure - we will use it later\n",
    "dt = 0.001\n",
    "nts = 100\n",
    "\n",
    "\n",
    "from SHIP import TTFSencoder\n",
    "\n",
    "xtest = TTFSencoder(xtest, nts,dt)   # converting..\n",
    "xtrain = TTFSencoder(xtrain, nts,dt) # done."
   ]
  },
  {
   "cell_type": "markdown",
   "id": "2008bb5d",
   "metadata": {},
   "source": [
    "### Define a 3-layer feedforward network\n",
    "\n",
    "Here we build a somewhat random network, only to demonstrate how to train it for the classification task we aimed for."
   ]
  },
  {
   "cell_type": "code",
   "execution_count": 39,
   "id": "844e988d",
   "metadata": {},
   "outputs": [
    {
     "name": "stdout",
     "output_type": "stream",
     "text": [
      "build network\n",
      "initialize network\n"
     ]
    }
   ],
   "source": [
    "from SHIP import (network,\n",
    "                  inputN,\n",
    "                  lifN,\n",
    "                  lS_1o)\n",
    "\n",
    "print(\"build network\")\n",
    "net = network()\n",
    "net.add(inputN,'I',N=14*14) # <-- first layer\n",
    "net.add(lifN,'H',N=30, tau_beta = 0.2) # <-- hidden layer\n",
    "net.add(lifN,'O',N=10,tau_beta = 0.2, is_output = True) # <-- output layer\n",
    "net.add(lS_1o,'IH',source='I',target='H',w_scale = 100) \n",
    "net.add(lS_1o,'HO',source='H',target='O',w_scale = 50)\n",
    "\n",
    "print(\"initialize network\")\n",
    "net.init(dt = dt, nts = nts, batch_size = batch_size)"
   ]
  },
  {
   "cell_type": "markdown",
   "id": "1cc2a1cb",
   "metadata": {},
   "source": [
    "## Interfacing the network with PyTorch functionalities: **trainer**\n",
    "\n",
    "Now that we have a network, we can use the **trainer** class to perform synaptic weight optimization on the SNN. A **trainer** object automates all the operations needed to convert our **network** onto an object that PyTorch can apply its optimizers to. In particular, the available trainer, `SurrGradTrainer`, has been developed on the basis of the work of F. Zenke and collaborators (see  https://ganguli-gang.stanford.edu/pdf/17.superspike.pdf,https://ieeexplore.ieee.org/document/8891809),  also shown in the very-well drawn tutorial found in https://github.com/fzenke/spytorch, \n",
    "\n",
    "In little more details, the `SurrGradTrainer` performs the following:\n",
    "- replaces the neuron model's activation function with a differentiable one where needed\n",
    "- automatically detects the network's *parameters* (i.e. synaptic weights), as in our models those have always been labelled as *w*;\n",
    "- through its `get_inference_data` method, it retrieves the output seeking the maximum of a tensor along its 1st dimension (time), and it applies  user-defined pre-processing functions and performs the back-propagation according to an user-defined Torch optimizer.\n",
    "More elements can be found within the source code, but we refer to the work of the original author to find the reasons of how and why these algorithmic steps work.\n",
    "\n",
    "To cut it short, and to focus on the demonstration of the platform use, it is sufficient to say that the `SurrGradTrainer` interfaces the network with the PyTorch training routines, and it can be applied for classification task training, provided that the network has a **liN** output model.\n",
    "\n",
    "However, our network finds a **lifN** object as the output group, which returns spikes - not a membrane potential. Thus, the `SurrGradTrainer` is not directly suitable. We show how to modify the **trainer** so to operate with a spiking output. In practical terms, we need to instruct the trainer to fetch the network inference data as the sum of all spikes along the temporal axis, as follows:"
   ]
  },
  {
   "cell_type": "code",
   "execution_count": 40,
   "id": "66936669",
   "metadata": {},
   "outputs": [],
   "source": [
    "from SHIP import SurrGradTrainer\n",
    "\n",
    "class TR(SurrGradTrainer): # <-- we inherit the class\n",
    "    def get_inference_data(self):  # we modify only the get_inference_data function        \n",
    "        output = self.net.output.sum(dim = 1).float()  # that now seeks the spike count\n",
    "        return output\n",
    "    "
   ]
  },
  {
   "cell_type": "markdown",
   "id": "a7150f10",
   "metadata": {},
   "source": [
    "Internally, such data will be also used to determine the prediction (as the neuron that fires the most).\n",
    "\n",
    "Now we have a **trainer** that knows how to handle the network output.  We define and initialize such trainer, in parallel to what has been done with a network. We leave the default settings (inference pre-processing through the `torch.nn.LogSoftmax`; cost function as `torch.nn.NLLLoss`; `torch.optim.Adam(lr = 2e-3, betas = 0.9,0.999)`). Those have proven to be sufficient to train the network with the MNIST dataset. Again, more detailed information on the inner working of the trainer can be seen in the notebook of the original authors and related manuscripts.\n",
    "\n",
    "We therefore build our object:"
   ]
  },
  {
   "cell_type": "code",
   "execution_count": 41,
   "id": "504453b8",
   "metadata": {},
   "outputs": [
    {
     "name": "stdout",
     "output_type": "stream",
     "text": [
      "build trainer\n",
      "initialize trainer\n"
     ]
    }
   ],
   "source": [
    "print(\"build trainer\")\n",
    "tr = TR(net)\n",
    "print(\"initialize trainer\")\n",
    "tr.init()"
   ]
  },
  {
   "cell_type": "markdown",
   "id": "3359016d",
   "metadata": {},
   "source": [
    "The **trainer** has been properly set up. Now it is a matter to iteratively run the **network** and the **trainer**, with the **network** receiving the encoded dataset, and the trainer receiving the dataset targets. To do so, we use `TensorHauler`, a function set up to slice the dataset into batches and yielding those sequentially within a for loop structure. \n",
    "\n",
    "(tqdm is instead a useful utility that provides a progress bar)\n",
    "\n",
    "See below:"
   ]
  },
  {
   "cell_type": "code",
   "execution_count": 43,
   "id": "cedddbed",
   "metadata": {},
   "outputs": [
    {
     "name": "stdout",
     "output_type": "stream",
     "text": [
      "train network - 1 epoch\n"
     ]
    },
    {
     "name": "stderr",
     "output_type": "stream",
     "text": [
      "  8%|██████▍                                                                        | 101/1250 [00:12<02:23,  7.99it/s]"
     ]
    },
    {
     "name": "stdout",
     "output_type": "stream",
     "text": [
      "loss value 2.3810341358184814\n"
     ]
    },
    {
     "name": "stderr",
     "output_type": "stream",
     "text": [
      " 16%|████████████▋                                                                  | 201/1250 [00:25<02:11,  7.99it/s]"
     ]
    },
    {
     "name": "stdout",
     "output_type": "stream",
     "text": [
      "loss value 2.090963363647461\n"
     ]
    },
    {
     "name": "stderr",
     "output_type": "stream",
     "text": [
      " 24%|███████████████████                                                            | 301/1250 [00:37<01:57,  8.09it/s]"
     ]
    },
    {
     "name": "stdout",
     "output_type": "stream",
     "text": [
      "loss value 2.5722126960754395\n"
     ]
    },
    {
     "name": "stderr",
     "output_type": "stream",
     "text": [
      " 32%|█████████████████████████▎                                                     | 401/1250 [00:50<01:55,  7.36it/s]"
     ]
    },
    {
     "name": "stdout",
     "output_type": "stream",
     "text": [
      "loss value 2.4211387634277344\n"
     ]
    },
    {
     "name": "stderr",
     "output_type": "stream",
     "text": [
      " 40%|███████████████████████████████▋                                               | 501/1250 [01:03<01:32,  8.09it/s]"
     ]
    },
    {
     "name": "stdout",
     "output_type": "stream",
     "text": [
      "loss value 2.599057674407959\n"
     ]
    },
    {
     "name": "stderr",
     "output_type": "stream",
     "text": [
      " 48%|█████████████████████████████████████▉                                         | 601/1250 [01:17<01:33,  6.93it/s]"
     ]
    },
    {
     "name": "stdout",
     "output_type": "stream",
     "text": [
      "loss value 1.9505741596221924\n"
     ]
    },
    {
     "name": "stderr",
     "output_type": "stream",
     "text": [
      " 56%|████████████████████████████████████████████▎                                  | 701/1250 [01:31<01:18,  6.99it/s]"
     ]
    },
    {
     "name": "stdout",
     "output_type": "stream",
     "text": [
      "loss value 2.339498519897461\n"
     ]
    },
    {
     "name": "stderr",
     "output_type": "stream",
     "text": [
      " 59%|██████████████████████████████████████████████▎                                | 733/1250 [01:36<01:07,  7.61it/s]\n"
     ]
    },
    {
     "ename": "KeyboardInterrupt",
     "evalue": "",
     "output_type": "error",
     "traceback": [
      "\u001b[1;31m---------------------------------------------------------------------------\u001b[0m",
      "\u001b[1;31mKeyboardInterrupt\u001b[0m                         Traceback (most recent call last)",
      "\u001b[1;32m~\\AppData\\Local\\Temp\\ipykernel_25924\\2626400990.py\u001b[0m in \u001b[0;36m<module>\u001b[1;34m\u001b[0m\n\u001b[0;32m      5\u001b[0m \u001b[0mii\u001b[0m \u001b[1;33m=\u001b[0m \u001b[1;36m0\u001b[0m\u001b[1;33m\u001b[0m\u001b[1;33m\u001b[0m\u001b[0m\n\u001b[0;32m      6\u001b[0m \u001b[1;32mfor\u001b[0m \u001b[0mxx\u001b[0m\u001b[1;33m,\u001b[0m\u001b[0myy\u001b[0m \u001b[1;32min\u001b[0m \u001b[0mtqdm\u001b[0m\u001b[1;33m(\u001b[0m\u001b[0mTensorHauler\u001b[0m\u001b[1;33m(\u001b[0m\u001b[0mxtrain\u001b[0m\u001b[1;33m,\u001b[0m\u001b[0mytrain\u001b[0m\u001b[1;33m,\u001b[0m\u001b[0mbatch_size\u001b[0m\u001b[1;33m)\u001b[0m\u001b[1;33m,\u001b[0m \u001b[0mtotal\u001b[0m \u001b[1;33m=\u001b[0m \u001b[0mlen\u001b[0m\u001b[1;33m(\u001b[0m\u001b[0mytrain\u001b[0m\u001b[1;33m)\u001b[0m\u001b[1;33m//\u001b[0m\u001b[0mbatch_size\u001b[0m\u001b[1;33m)\u001b[0m\u001b[1;33m:\u001b[0m\u001b[1;33m\u001b[0m\u001b[1;33m\u001b[0m\u001b[0m\n\u001b[1;32m----> 7\u001b[1;33m     \u001b[0mnet\u001b[0m\u001b[1;33m.\u001b[0m\u001b[0mrun\u001b[0m\u001b[1;33m(\u001b[0m\u001b[0mxx\u001b[0m\u001b[1;33m)\u001b[0m\u001b[1;33m\u001b[0m\u001b[1;33m\u001b[0m\u001b[0m\n\u001b[0m\u001b[0;32m      8\u001b[0m     \u001b[0mtr\u001b[0m\u001b[1;33m.\u001b[0m\u001b[0mrun\u001b[0m\u001b[1;33m(\u001b[0m\u001b[0myy\u001b[0m\u001b[1;33m)\u001b[0m\u001b[1;33m\u001b[0m\u001b[1;33m\u001b[0m\u001b[0m\n\u001b[0;32m      9\u001b[0m     \u001b[0mii\u001b[0m\u001b[1;33m+=\u001b[0m\u001b[1;36m1\u001b[0m\u001b[1;33m\u001b[0m\u001b[1;33m\u001b[0m\u001b[0m\n",
      "\u001b[1;32mC:\\SHIP\\network.py\u001b[0m in \u001b[0;36mrun\u001b[1;34m(self, *args, **kwargs)\u001b[0m\n\u001b[0;32m    547\u001b[0m         \u001b[0mself\u001b[0m\u001b[1;33m.\u001b[0m\u001b[0mshallow_init\u001b[0m\u001b[1;33m(\u001b[0m\u001b[1;33m*\u001b[0m\u001b[0margs\u001b[0m\u001b[1;33m,\u001b[0m\u001b[1;33m**\u001b[0m\u001b[0mkwargs\u001b[0m\u001b[1;33m)\u001b[0m\u001b[1;33m\u001b[0m\u001b[1;33m\u001b[0m\u001b[0m\n\u001b[0;32m    548\u001b[0m         \u001b[1;32mif\u001b[0m \u001b[0mself\u001b[0m\u001b[1;33m.\u001b[0m\u001b[0misanyoutput\u001b[0m\u001b[1;33m:\u001b[0m\u001b[1;33m\u001b[0m\u001b[1;33m\u001b[0m\u001b[0m\n\u001b[1;32m--> 549\u001b[1;33m             \u001b[0mself\u001b[0m\u001b[1;33m.\u001b[0m\u001b[0mrun_\u001b[0m\u001b[1;33m(\u001b[0m\u001b[1;33m)\u001b[0m\u001b[1;33m\u001b[0m\u001b[1;33m\u001b[0m\u001b[0m\n\u001b[0m\u001b[0;32m    550\u001b[0m         \u001b[1;32melse\u001b[0m\u001b[1;33m:\u001b[0m\u001b[1;33m\u001b[0m\u001b[1;33m\u001b[0m\u001b[0m\n\u001b[0;32m    551\u001b[0m             \u001b[0mself\u001b[0m\u001b[1;33m.\u001b[0m\u001b[0mrun_no_out\u001b[0m\u001b[1;33m(\u001b[0m\u001b[1;33m)\u001b[0m\u001b[1;33m\u001b[0m\u001b[1;33m\u001b[0m\u001b[0m\n",
      "\u001b[1;32mC:\\SHIP\\network.py\u001b[0m in \u001b[0;36mrun_\u001b[1;34m(self)\u001b[0m\n\u001b[0;32m    668\u001b[0m                 \u001b[1;31m# due to the local_input dynamically created variable\u001b[0m\u001b[1;33m\u001b[0m\u001b[1;33m\u001b[0m\u001b[0m\n\u001b[0;32m    669\u001b[0m                 \u001b[1;32mif\u001b[0m \u001b[0mgg\u001b[0m\u001b[1;33m.\u001b[0m\u001b[0mneeds_1_input\u001b[0m\u001b[1;33m:\u001b[0m \u001b[1;31m# send one tensor\u001b[0m\u001b[1;33m\u001b[0m\u001b[1;33m\u001b[0m\u001b[0m\n\u001b[1;32m--> 670\u001b[1;33m                     \u001b[0mgg\u001b[0m\u001b[1;33m.\u001b[0m\u001b[0moutput\u001b[0m \u001b[1;33m=\u001b[0m \u001b[0mgg\u001b[0m\u001b[1;33m.\u001b[0m\u001b[0mrun_wrapper\u001b[0m\u001b[1;33m(\u001b[0m \u001b[0mself\u001b[0m\u001b[1;33m.\u001b[0m\u001b[0mres\u001b[0m\u001b[1;33m[\u001b[0m\u001b[0mgg\u001b[0m\u001b[1;33m.\u001b[0m\u001b[0minput_idx\u001b[0m\u001b[1;33m]\u001b[0m \u001b[1;33m)\u001b[0m\u001b[1;33m\u001b[0m\u001b[1;33m\u001b[0m\u001b[0m\n\u001b[0m\u001b[0;32m    671\u001b[0m                 \u001b[1;32melif\u001b[0m \u001b[0mgg\u001b[0m\u001b[1;33m.\u001b[0m\u001b[0mneeds_more_inputs\u001b[0m\u001b[1;33m:\u001b[0m \u001b[1;31m# send sum of input tensors\u001b[0m\u001b[1;33m\u001b[0m\u001b[1;33m\u001b[0m\u001b[0m\n\u001b[0;32m    672\u001b[0m                     \u001b[0mgg\u001b[0m\u001b[1;33m.\u001b[0m\u001b[0moutput\u001b[0m \u001b[1;33m=\u001b[0m \u001b[0mgg\u001b[0m\u001b[1;33m.\u001b[0m\u001b[0mrun_wrapper\u001b[0m\u001b[1;33m(\u001b[0m \u001b[0msum\u001b[0m\u001b[1;33m(\u001b[0m\u001b[1;33m[\u001b[0m\u001b[0mself\u001b[0m\u001b[1;33m.\u001b[0m\u001b[0mres\u001b[0m\u001b[1;33m[\u001b[0m\u001b[0m_\u001b[0m\u001b[1;33m]\u001b[0m \u001b[1;32mfor\u001b[0m \u001b[0m_\u001b[0m \u001b[1;32min\u001b[0m \u001b[0mgg\u001b[0m\u001b[1;33m.\u001b[0m\u001b[0minput_idx\u001b[0m\u001b[1;33m]\u001b[0m\u001b[1;33m)\u001b[0m \u001b[1;33m)\u001b[0m\u001b[1;33m\u001b[0m\u001b[1;33m\u001b[0m\u001b[0m\n",
      "\u001b[1;32mC:\\SHIP\\component_models.py\u001b[0m in \u001b[0;36madvance_timestep\u001b[1;34m(self, local_input)\u001b[0m\n\u001b[0;32m    243\u001b[0m \u001b[1;33m\u001b[0m\u001b[0m\n\u001b[0;32m    244\u001b[0m     \u001b[1;32mdef\u001b[0m \u001b[0madvance_timestep\u001b[0m\u001b[1;33m(\u001b[0m\u001b[0mself\u001b[0m\u001b[1;33m,\u001b[0m\u001b[0mlocal_input\u001b[0m\u001b[1;33m=\u001b[0m\u001b[1;36m0\u001b[0m\u001b[1;33m)\u001b[0m\u001b[1;33m:\u001b[0m\u001b[1;33m\u001b[0m\u001b[1;33m\u001b[0m\u001b[0m\n\u001b[1;32m--> 245\u001b[1;33m         \u001b[0mself\u001b[0m\u001b[1;33m.\u001b[0m\u001b[0mu\u001b[0m \u001b[1;33m=\u001b[0m \u001b[1;33m(\u001b[0m\u001b[0mself\u001b[0m\u001b[1;33m.\u001b[0m\u001b[0mintegrate\u001b[0m\u001b[1;33m)\u001b[0m\u001b[1;33m*\u001b[0m\u001b[0mclamp\u001b[0m\u001b[1;33m(\u001b[0m\u001b[0mself\u001b[0m\u001b[1;33m.\u001b[0m\u001b[0mu\u001b[0m\u001b[1;33m*\u001b[0m\u001b[0mself\u001b[0m\u001b[1;33m.\u001b[0m\u001b[0mbeta\u001b[0m\u001b[1;33m+\u001b[0m\u001b[0mlocal_input\u001b[0m\u001b[1;33m,\u001b[0m\u001b[0mmin\u001b[0m\u001b[1;33m=\u001b[0m\u001b[1;36m0\u001b[0m\u001b[1;33m)\u001b[0m\u001b[1;33m\u001b[0m\u001b[1;33m\u001b[0m\u001b[0m\n\u001b[0m\u001b[0;32m    246\u001b[0m         \u001b[0mspikes\u001b[0m \u001b[1;33m=\u001b[0m \u001b[0mself\u001b[0m\u001b[1;33m.\u001b[0m\u001b[0mactivator\u001b[0m\u001b[1;33m(\u001b[0m\u001b[0mself\u001b[0m\u001b[1;33m.\u001b[0m\u001b[0mu\u001b[0m\u001b[1;33m-\u001b[0m\u001b[0mself\u001b[0m\u001b[1;33m.\u001b[0m\u001b[0mthr\u001b[0m\u001b[1;33m)\u001b[0m\u001b[1;33m\u001b[0m\u001b[1;33m\u001b[0m\u001b[0m\n\u001b[0;32m    247\u001b[0m         \u001b[0mself\u001b[0m\u001b[1;33m.\u001b[0m\u001b[0mintegrate\u001b[0m \u001b[1;33m=\u001b[0m \u001b[1;33m~\u001b[0m\u001b[0mspikes\u001b[0m\u001b[1;33m.\u001b[0m\u001b[0mdetach\u001b[0m\u001b[1;33m(\u001b[0m\u001b[1;33m)\u001b[0m\u001b[1;33m.\u001b[0m\u001b[0mbool\u001b[0m\u001b[1;33m(\u001b[0m\u001b[1;33m)\u001b[0m\u001b[1;33m\u001b[0m\u001b[1;33m\u001b[0m\u001b[0m\n",
      "\u001b[1;31mKeyboardInterrupt\u001b[0m: "
     ]
    }
   ],
   "source": [
    "from SHIP import TensorHauler\n",
    "from tqdm import tqdm\n",
    "\n",
    "print(\"train network - 1 epoch\")\n",
    "ii = 0\n",
    "for xx,yy in tqdm(TensorHauler(xtrain,ytrain,batch_size), total = len(ytrain)//batch_size):\n",
    "    net.run(xx)\n",
    "    tr.run(yy)\n",
    "    ii+=1\n",
    "    if ii%100 == 0:\n",
    "        print(\"loss value\", tr.loss_hist[-1])"
   ]
  },
  {
   "cell_type": "markdown",
   "id": "5887575e",
   "metadata": {},
   "source": [
    "It should be visible that the loss function decreases with the iteration count.\n",
    "\n",
    "Now we repeat the inference simulation with the test dataset, and we use the **trainer** to build a confusion matrix:"
   ]
  },
  {
   "cell_type": "code",
   "execution_count": 38,
   "id": "15293144",
   "metadata": {},
   "outputs": [
    {
     "name": "stdout",
     "output_type": "stream",
     "text": [
      "get confusion matrix and accuracy\n"
     ]
    },
    {
     "name": "stderr",
     "output_type": "stream",
     "text": [
      "100%|████████████████████████████████████████████████████████████████████████████████| 125/125 [00:06<00:00, 19.60it/s]\n"
     ]
    },
    {
     "name": "stdout",
     "output_type": "stream",
     "text": [
      "accuracy = 0.173\n"
     ]
    },
    {
     "data": {
      "image/png": "[encoded data removed]",
      "text/plain": [
       "<Figure size 1200x1200 with 2 Axes>"
      ]
     },
     "metadata": {},
     "output_type": "display_data"
    }
   ],
   "source": [
    "from torch import (zeros, no_grad, eye)\n",
    "\n",
    "print(\"get confusion matrix and accuracy\")\n",
    "# get confusion matrix and accuracy        \n",
    "cm = zeros(10,10)\n",
    "with no_grad():\n",
    "    for xx,yy in tqdm(TensorHauler(xtest,ytest,batch_size), total = len(ytest)//batch_size):\n",
    "        net.run(xx)\n",
    "        cm[yy,tr.get_prediction()]+=1\n",
    "        \n",
    "cmn = cm/cm.sum(dim=1)\n",
    "\n",
    "import matplotlib.pyplot as plt\n",
    "labels = arange(10)\n",
    "f,ax = plt.subplots(1,1,dpi = 300, figsize = (4,4))   \n",
    "pp = ax.imshow(cmn,cmap = \"jet\",vmin = 0, vmax = 1); plt.colorbar(pp)\n",
    "ax.set_xticks(labels.numpy(),labels=labels.numpy())\n",
    "ax.set_ylabel('target')\n",
    "ax.set_yticks(labels.numpy(),labels=labels.numpy())\n",
    "ax.set_xlabel('prediction')\n",
    "print(\"accuracy = %0.3f\"%((cm*eye(10)).sum()/cm.sum()))"
   ]
  },
  {
   "cell_type": "markdown",
   "id": "05455cb4",
   "metadata": {},
   "source": [
    "After one epoch, and using a limited portion of the original dataset (also reduced in resolution), we manage to find a certain degree of diagonalization of the confusion matrix, and an accuracy which should be close to 50% (this value varies with chance).\n",
    "\n",
    "Concluding, this tutorial shows the essentials on how to train a SNN in SHIP for classification tasks. Much can be changed, from the data source, to the data encoding, to the details of how the trainer fetches, preprocesses the inference data and calculates and apply the synaptic weights update. However, the main elements are here gathered, and much more complex tasks can be derived from this simplistic example."
   ]
  }
 ],
 "metadata": {
  "kernelspec": {
   "display_name": "Python 3 (ipykernel)",
   "language": "python",
   "name": "python3"
  },
  "language_info": {
   "codemirror_mode": {
    "name": "ipython",
    "version": 3
   },
   "file_extension": ".py",
   "mimetype": "text/x-python",
   "name": "python",
   "nbconvert_exporter": "python",
   "pygments_lexer": "ipython3",
   "version": "3.9.13"
  }
 },
 "nbformat": 4,
 "nbformat_minor": 5
}
