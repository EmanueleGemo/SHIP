{
 "cells": [
  {
   "cell_type": "markdown",
   "id": "d922137a",
   "metadata": {},
   "source": [
    "# SNN training through PyTorch\n",
    "\n",
    "With the previous tutorials we have seen how to build a network and run a simulation. These are the necessary elements to start with in order to set up a network for the training towards the classification task, using an externally-provided dataset."
   ]
  },
  {
   "cell_type": "markdown",
   "id": "790dbe38",
   "metadata": {},
   "source": [
    "## Data\n",
    "\n",
    "We provided a few utilities that come useful to set up a classification training, borrowing the available functions from Torch and TorchVision.\n",
    "In particular, we will demonstrate how to train a network by use of a subset of the MNIST dataset.\n",
    "\n",
    "### Download\n",
    "We start loading the dataset, using the `TorchVisionDataLoader` utility.\n",
    "We also select a subset of the entire dataset, just in order to speed-up the calculation.\n",
    "Also for sake of computation requirement, we manually downsize all the data from a 28x28 based set of figures, to a 14x14 based set of figures."
   ]
  },
  {
   "cell_type": "code",
   "execution_count": 1,
   "id": "136e503d",
   "metadata": {},
   "outputs": [
    {
     "name": "stdout",
     "output_type": "stream",
     "text": [
      "Downloading http://yann.lecun.com/exdb/mnist/train-images-idx3-ubyte.gz\n",
      "Downloading http://yann.lecun.com/exdb/mnist/train-images-idx3-ubyte.gz to C:\\Users\\Em\\SHIP - tutorials\\data\\datasets\\torch\\MNIST\\MNIST\\raw\\train-images-idx3-ubyte.gz\n"
     ]
    },
    {
     "data": {
      "application/vnd.jupyter.widget-view+json": {
       "model_id": "872c7be7e65a45dd92ef44ec9b2cf59f",
       "version_major": 2,
       "version_minor": 0
      },
      "text/plain": [
       "  0%|          | 0/9912422 [00:00<?, ?it/s]"
      ]
     },
     "metadata": {},
     "output_type": "display_data"
    },
    {
     "name": "stdout",
     "output_type": "stream",
     "text": [
      "Extracting C:\\Users\\Em\\SHIP - tutorials\\data\\datasets\\torch\\MNIST\\MNIST\\raw\\train-images-idx3-ubyte.gz to C:\\Users\\Em\\SHIP - tutorials\\data\\datasets\\torch\\MNIST\\MNIST\\raw\n",
      "\n",
      "Downloading http://yann.lecun.com/exdb/mnist/train-labels-idx1-ubyte.gz\n",
      "Downloading http://yann.lecun.com/exdb/mnist/train-labels-idx1-ubyte.gz to C:\\Users\\Em\\SHIP - tutorials\\data\\datasets\\torch\\MNIST\\MNIST\\raw\\train-labels-idx1-ubyte.gz\n"
     ]
    },
    {
     "data": {
      "application/vnd.jupyter.widget-view+json": {
       "model_id": "c5281ef56b9a4029b58991c81851719e",
       "version_major": 2,
       "version_minor": 0
      },
      "text/plain": [
       "  0%|          | 0/28881 [00:00<?, ?it/s]"
      ]
     },
     "metadata": {},
     "output_type": "display_data"
    },
    {
     "name": "stdout",
     "output_type": "stream",
     "text": [
      "Extracting C:\\Users\\Em\\SHIP - tutorials\\data\\datasets\\torch\\MNIST\\MNIST\\raw\\train-labels-idx1-ubyte.gz to C:\\Users\\Em\\SHIP - tutorials\\data\\datasets\\torch\\MNIST\\MNIST\\raw\n",
      "\n",
      "Downloading http://yann.lecun.com/exdb/mnist/t10k-images-idx3-ubyte.gz\n",
      "Downloading http://yann.lecun.com/exdb/mnist/t10k-images-idx3-ubyte.gz to C:\\Users\\Em\\SHIP - tutorials\\data\\datasets\\torch\\MNIST\\MNIST\\raw\\t10k-images-idx3-ubyte.gz\n"
     ]
    },
    {
     "data": {
      "application/vnd.jupyter.widget-view+json": {
       "model_id": "a4fd4c84f8214c808b4272fd9f1aeb9a",
       "version_major": 2,
       "version_minor": 0
      },
      "text/plain": [
       "  0%|          | 0/1648877 [00:00<?, ?it/s]"
      ]
     },
     "metadata": {},
     "output_type": "display_data"
    },
    {
     "name": "stdout",
     "output_type": "stream",
     "text": [
      "Extracting C:\\Users\\Em\\SHIP - tutorials\\data\\datasets\\torch\\MNIST\\MNIST\\raw\\t10k-images-idx3-ubyte.gz to C:\\Users\\Em\\SHIP - tutorials\\data\\datasets\\torch\\MNIST\\MNIST\\raw\n",
      "\n",
      "Downloading http://yann.lecun.com/exdb/mnist/t10k-labels-idx1-ubyte.gz\n",
      "Downloading http://yann.lecun.com/exdb/mnist/t10k-labels-idx1-ubyte.gz to C:\\Users\\Em\\SHIP - tutorials\\data\\datasets\\torch\\MNIST\\MNIST\\raw\\t10k-labels-idx1-ubyte.gz\n"
     ]
    },
    {
     "data": {
      "application/vnd.jupyter.widget-view+json": {
       "model_id": "7a5a1d0226164071b775a0f9ab1b0fb1",
       "version_major": 2,
       "version_minor": 0
      },
      "text/plain": [
       "  0%|          | 0/4542 [00:00<?, ?it/s]"
      ]
     },
     "metadata": {},
     "output_type": "display_data"
    },
    {
     "name": "stdout",
     "output_type": "stream",
     "text": [
      "Extracting C:\\Users\\Em\\SHIP - tutorials\\data\\datasets\\torch\\MNIST\\MNIST\\raw\\t10k-labels-idx1-ubyte.gz to C:\\Users\\Em\\SHIP - tutorials\\data\\datasets\\torch\\MNIST\\MNIST\\raw\n",
      "\n"
     ]
    }
   ],
   "source": [
    "import sys\n",
    "sys.path.append('C:\\\\') # to be edited by the user\n",
    "\n",
    "from SHIP import TorchVisionDataLoader as DL\n",
    "from torch import (randperm,\n",
    "                   tensor,\n",
    "                   arange)\n",
    "\n",
    "xtrain,ytrain,xtest,ytest = DL('MNIST',standardize = True) #<-- small utility - info on TorchVisionDataLoader in code\n",
    "\n",
    "### select part of the dataset (raw'n'dirty approach)\n",
    "idx_tr = randperm(ytrain.shape[0])[:15000] # <-- reduce dataset here\n",
    "idx_te = randperm(ytest.shape[0])[:1000]  # <-- same goes here\n",
    "xtrain,ytrain,xtest,ytest = xtrain[idx_tr],ytrain[idx_tr],xtest[idx_te],ytest[idx_te] # <-- apply masks\n",
    "\n",
    "### manual convolution\n",
    "_a = tensor([0,1,28,29]);_m = 2; _idx = arange(196).unsqueeze(-1).expand(196,4); \n",
    "convmap = 28*(_idx//14)+(_m*_idx+_a)\n",
    "                  \n",
    "xtest = xtest[:,convmap].sum(dim=-1).float()\n",
    "xtrain = xtrain[:,convmap].sum(dim=-1).float()"
   ]
  },
  {
   "cell_type": "markdown",
   "id": "a2f244b1",
   "metadata": {},
   "source": [
    "### Encode data onto a spiking dataset\n",
    "SHIP comes with a couple of utils that allow for a fast conversion of an intensity-based dataset onto a spiking dataset, via use of the time-to-first-spike technique and rate-coding technique.\n",
    "\n",
    "Here we use the former, `TTFSencoder`, only due to the fact that it is relatively less computationally-intensive than the rate-coding based technique. \n",
    "We note that at this stage we already have to choose the number and size of time-steps, as the encoder asks for this parameter to determine the length of the input.\n",
    "\n",
    "Here's the example:"
   ]
  },
  {
   "cell_type": "code",
   "execution_count": 2,
   "id": "2eebc4ab",
   "metadata": {},
   "outputs": [],
   "source": [
    "batch_size = 4 # <-- added for good measure - we will use it later\n",
    "dt = 0.001\n",
    "nts = 100\n",
    "\n",
    "\n",
    "from SHIP import TTFSencoder\n",
    "\n",
    "xtest = TTFSencoder(xtest, nts,dt)   # converting..\n",
    "xtrain = TTFSencoder(xtrain, nts,dt) # done."
   ]
  },
  {
   "cell_type": "markdown",
   "id": "2008bb5d",
   "metadata": {},
   "source": [
    "### Define a 3-layer feedforward network\n",
    "\n",
    "Here we build a somewhat random network, only to demonstrate how to train it for the classification task we aimed for."
   ]
  },
  {
   "cell_type": "code",
   "execution_count": 3,
   "id": "844e988d",
   "metadata": {},
   "outputs": [
    {
     "name": "stdout",
     "output_type": "stream",
     "text": [
      "build network\n",
      "initialize network\n"
     ]
    }
   ],
   "source": [
    "from SHIP import (network,\n",
    "                  inputN,\n",
    "                  lifN,\n",
    "                  lS_1o)\n",
    "\n",
    "print(\"build network\")\n",
    "net = network()\n",
    "net.add(inputN,'I',N=14*14) # <-- first layer\n",
    "net.add(lifN,'H',N=30, tau_beta = 0.2) # <-- hidden layer\n",
    "net.add(lifN,'O',N=10,tau_beta = 0.2, is_output = True) # <-- output layer\n",
    "net.add(lS_1o,'IH',source='I',target='H',w_scale = 100) \n",
    "net.add(lS_1o,'HO',source='H',target='O',w_scale = 50)\n",
    "\n",
    "print(\"initialize network\")\n",
    "net.init(dt = dt, nts = nts, batch_size = batch_size)"
   ]
  },
  {
   "cell_type": "markdown",
   "id": "1cc2a1cb",
   "metadata": {},
   "source": [
    "## Interfacing the network with PyTorch functionalities: **trainer**\n",
    "\n",
    "Now that we have a network, we can use the **trainer** class to perform synaptic weight optimization on the SNN. A **trainer** object automates all the operations needed to convert our **network** onto an object that PyTorch can apply its optimizers to. In particular, the available trainer, `SurrGradTrainer`, has been developed on the basis of the work of F. Zenke and collaborators (see  https://ganguli-gang.stanford.edu/pdf/17.superspike.pdf, https://ieeexplore.ieee.org/document/8891809),  also shown in the very-well drawn tutorial found in https://github.com/fzenke/spytorch, \n",
    "\n",
    "In little more details, the `SurrGradTrainer` performs the following:\n",
    "- replaces the neuron model's activation function with a differentiable one where needed\n",
    "- automatically detects the network's *parameters* (i.e. synaptic weights), as in our models those have always been labelled as *w*;\n",
    "- through its `get_inference_data` method, it retrieves the output seeking the maximum of a tensor along its 1st dimension (time), and it applies  user-defined pre-processing functions and performs the back-propagation according to an user-defined Torch optimizer.\n",
    "More elements can be found within the source code, but we refer to the work of the original author to find the reasons of how and why these algorithmic steps work.\n",
    "\n",
    "To cut it short, and to focus on the demonstration of the platform use, it is sufficient to say that the `SurrGradTrainer` interfaces the network with the PyTorch training routines, and it can be applied for classification task training, provided that the network has a **liN** output model.\n",
    "\n",
    "However, our network finds a **lifN** object as the output group, which returns spikes - not a membrane potential. Thus, the `SurrGradTrainer` is not directly suitable. We show how to modify the **trainer** so to operate with a spiking output. In practical terms, we need to instruct the trainer to fetch the network inference data as the sum of all spikes along the temporal axis, as follows:"
   ]
  },
  {
   "cell_type": "code",
   "execution_count": 4,
   "id": "66936669",
   "metadata": {},
   "outputs": [],
   "source": [
    "from SHIP import SurrGradTrainer\n",
    "\n",
    "class TR(SurrGradTrainer): # <-- we inherit the class\n",
    "    def get_inference_data(self):  # we modify only the get_inference_data function        \n",
    "        output = self.net.output.sum(dim = 1).float()  # that now seeks the spike count\n",
    "        return output\n",
    "    "
   ]
  },
  {
   "cell_type": "markdown",
   "id": "a7150f10",
   "metadata": {},
   "source": [
    "Internally, such data will be also used to determine the prediction (as the neuron that fires the most).\n",
    "\n",
    "Now we have a **trainer** that knows how to handle the network output.  We define and initialize such trainer, in parallel to what has been done with a network. We leave the default settings (inference pre-processing through the `torch.nn.LogSoftmax`; cost function as `torch.nn.NLLLoss`; `torch.optim.Adam(lr = 2e-3, betas = 0.9,0.999)`). Those have proven to be sufficient to train the network with the MNIST dataset. Again, more detailed information on the inner working of the trainer can be seen in the notebook of the original authors and related manuscripts.\n",
    "\n",
    "We therefore build our object:"
   ]
  },
  {
   "cell_type": "code",
   "execution_count": 5,
   "id": "504453b8",
   "metadata": {},
   "outputs": [
    {
     "name": "stdout",
     "output_type": "stream",
     "text": [
      "build trainer\n",
      "initialize trainer\n"
     ]
    }
   ],
   "source": [
    "print(\"build trainer\")\n",
    "tr = TR(net)\n",
    "print(\"initialize trainer\")\n",
    "tr.init()"
   ]
  },
  {
   "cell_type": "markdown",
   "id": "3359016d",
   "metadata": {},
   "source": [
    "The **trainer** has been properly set up. Now it is a matter to iteratively run the **network** and the **trainer**, with the **network** receiving the encoded dataset, and the trainer receiving the dataset targets. To do so, we use `TensorHauler`, a function set up to slice the dataset into batches and yielding those sequentially within a for loop structure. \n",
    "\n",
    "(tqdm is instead a useful utility that provides a progress bar)\n",
    "\n",
    "See below:"
   ]
  },
  {
   "cell_type": "code",
   "execution_count": 6,
   "id": "cedddbed",
   "metadata": {},
   "outputs": [
    {
     "name": "stdout",
     "output_type": "stream",
     "text": [
      "train network - 1 epoch\n"
     ]
    },
    {
     "name": "stderr",
     "output_type": "stream",
     "text": [
      "  3%|██▏                                                                            | 101/3750 [00:13<07:44,  7.86it/s]"
     ]
    },
    {
     "name": "stdout",
     "output_type": "stream",
     "text": [
      "loss value 2.352477788925171\n"
     ]
    },
    {
     "name": "stderr",
     "output_type": "stream",
     "text": [
      "  5%|████▏                                                                          | 201/3750 [00:26<07:16,  8.13it/s]"
     ]
    },
    {
     "name": "stdout",
     "output_type": "stream",
     "text": [
      "loss value 2.0467567443847656\n"
     ]
    },
    {
     "name": "stderr",
     "output_type": "stream",
     "text": [
      "  8%|██████▎                                                                        | 301/3750 [00:39<07:00,  8.21it/s]"
     ]
    },
    {
     "name": "stdout",
     "output_type": "stream",
     "text": [
      "loss value 2.5758886337280273\n"
     ]
    },
    {
     "name": "stderr",
     "output_type": "stream",
     "text": [
      " 11%|████████▍                                                                      | 401/3750 [00:52<07:15,  7.69it/s]"
     ]
    },
    {
     "name": "stdout",
     "output_type": "stream",
     "text": [
      "loss value 2.2619237899780273\n"
     ]
    },
    {
     "name": "stderr",
     "output_type": "stream",
     "text": [
      " 13%|██████████▌                                                                    | 501/3750 [01:05<07:22,  7.35it/s]"
     ]
    },
    {
     "name": "stdout",
     "output_type": "stream",
     "text": [
      "loss value 2.0551962852478027\n"
     ]
    },
    {
     "name": "stderr",
     "output_type": "stream",
     "text": [
      " 16%|████████████▋                                                                  | 601/3750 [01:18<06:30,  8.07it/s]"
     ]
    },
    {
     "name": "stdout",
     "output_type": "stream",
     "text": [
      "loss value 1.9923542737960815\n"
     ]
    },
    {
     "name": "stderr",
     "output_type": "stream",
     "text": [
      " 19%|██████████████▊                                                                | 701/3750 [01:32<06:31,  7.78it/s]"
     ]
    },
    {
     "name": "stdout",
     "output_type": "stream",
     "text": [
      "loss value 2.021496295928955\n"
     ]
    },
    {
     "name": "stderr",
     "output_type": "stream",
     "text": [
      " 21%|████████████████▊                                                              | 801/3750 [01:45<06:18,  7.79it/s]"
     ]
    },
    {
     "name": "stdout",
     "output_type": "stream",
     "text": [
      "loss value 2.2535133361816406\n"
     ]
    },
    {
     "name": "stderr",
     "output_type": "stream",
     "text": [
      " 24%|██████████████████▉                                                            | 901/3750 [01:58<05:56,  7.99it/s]"
     ]
    },
    {
     "name": "stdout",
     "output_type": "stream",
     "text": [
      "loss value 2.4243831634521484\n"
     ]
    },
    {
     "name": "stderr",
     "output_type": "stream",
     "text": [
      " 27%|████████████████████▊                                                         | 1001/3750 [02:11<05:52,  7.81it/s]"
     ]
    },
    {
     "name": "stdout",
     "output_type": "stream",
     "text": [
      "loss value 2.0715208053588867\n"
     ]
    },
    {
     "name": "stderr",
     "output_type": "stream",
     "text": [
      " 29%|██████████████████████▉                                                       | 1101/3750 [02:24<05:46,  7.65it/s]"
     ]
    },
    {
     "name": "stdout",
     "output_type": "stream",
     "text": [
      "loss value 2.4939675331115723\n"
     ]
    },
    {
     "name": "stderr",
     "output_type": "stream",
     "text": [
      " 32%|████████████████████████▉                                                     | 1201/3750 [02:37<05:22,  7.91it/s]"
     ]
    },
    {
     "name": "stdout",
     "output_type": "stream",
     "text": [
      "loss value 2.1855108737945557\n"
     ]
    },
    {
     "name": "stderr",
     "output_type": "stream",
     "text": [
      " 35%|███████████████████████████                                                   | 1301/3750 [02:50<05:29,  7.42it/s]"
     ]
    },
    {
     "name": "stdout",
     "output_type": "stream",
     "text": [
      "loss value 2.196237802505493\n"
     ]
    },
    {
     "name": "stderr",
     "output_type": "stream",
     "text": [
      " 37%|█████████████████████████████▏                                                | 1401/3750 [03:03<05:02,  7.77it/s]"
     ]
    },
    {
     "name": "stdout",
     "output_type": "stream",
     "text": [
      "loss value 2.318479061126709\n"
     ]
    },
    {
     "name": "stderr",
     "output_type": "stream",
     "text": [
      " 40%|███████████████████████████████▏                                              | 1501/3750 [03:16<04:44,  7.90it/s]"
     ]
    },
    {
     "name": "stdout",
     "output_type": "stream",
     "text": [
      "loss value 1.402896761894226\n"
     ]
    },
    {
     "name": "stderr",
     "output_type": "stream",
     "text": [
      " 43%|█████████████████████████████████▎                                            | 1601/3750 [03:29<04:33,  7.86it/s]"
     ]
    },
    {
     "name": "stdout",
     "output_type": "stream",
     "text": [
      "loss value 2.22556734085083\n"
     ]
    },
    {
     "name": "stderr",
     "output_type": "stream",
     "text": [
      " 45%|███████████████████████████████████▍                                          | 1701/3750 [03:42<04:31,  7.56it/s]"
     ]
    },
    {
     "name": "stdout",
     "output_type": "stream",
     "text": [
      "loss value 2.150756359100342\n"
     ]
    },
    {
     "name": "stderr",
     "output_type": "stream",
     "text": [
      " 48%|█████████████████████████████████████▍                                        | 1801/3750 [03:56<04:52,  6.67it/s]"
     ]
    },
    {
     "name": "stdout",
     "output_type": "stream",
     "text": [
      "loss value 2.360109329223633\n"
     ]
    },
    {
     "name": "stderr",
     "output_type": "stream",
     "text": [
      " 51%|███████████████████████████████████████▌                                      | 1901/3750 [04:09<03:57,  7.79it/s]"
     ]
    },
    {
     "name": "stdout",
     "output_type": "stream",
     "text": [
      "loss value 1.4995622634887695\n"
     ]
    },
    {
     "name": "stderr",
     "output_type": "stream",
     "text": [
      " 53%|█████████████████████████████████████████▌                                    | 2001/3750 [04:23<03:58,  7.33it/s]"
     ]
    },
    {
     "name": "stdout",
     "output_type": "stream",
     "text": [
      "loss value 1.7799491882324219\n"
     ]
    },
    {
     "name": "stderr",
     "output_type": "stream",
     "text": [
      " 56%|███████████████████████████████████████████▋                                  | 2101/3750 [04:36<03:48,  7.21it/s]"
     ]
    },
    {
     "name": "stdout",
     "output_type": "stream",
     "text": [
      "loss value 2.472588300704956\n"
     ]
    },
    {
     "name": "stderr",
     "output_type": "stream",
     "text": [
      " 59%|█████████████████████████████████████████████▊                                | 2201/3750 [04:49<03:19,  7.78it/s]"
     ]
    },
    {
     "name": "stdout",
     "output_type": "stream",
     "text": [
      "loss value 2.346193790435791\n"
     ]
    },
    {
     "name": "stderr",
     "output_type": "stream",
     "text": [
      " 61%|███████████████████████████████████████████████▊                              | 2301/3750 [05:02<03:10,  7.61it/s]"
     ]
    },
    {
     "name": "stdout",
     "output_type": "stream",
     "text": [
      "loss value 1.9455633163452148\n"
     ]
    },
    {
     "name": "stderr",
     "output_type": "stream",
     "text": [
      " 64%|█████████████████████████████████████████████████▉                            | 2401/3750 [05:16<02:58,  7.56it/s]"
     ]
    },
    {
     "name": "stdout",
     "output_type": "stream",
     "text": [
      "loss value 2.5827651023864746\n"
     ]
    },
    {
     "name": "stderr",
     "output_type": "stream",
     "text": [
      " 67%|████████████████████████████████████████████████████                          | 2501/3750 [05:29<02:48,  7.41it/s]"
     ]
    },
    {
     "name": "stdout",
     "output_type": "stream",
     "text": [
      "loss value 2.376966953277588\n"
     ]
    },
    {
     "name": "stderr",
     "output_type": "stream",
     "text": [
      " 69%|██████████████████████████████████████████████████████                        | 2601/3750 [05:42<02:30,  7.62it/s]"
     ]
    },
    {
     "name": "stdout",
     "output_type": "stream",
     "text": [
      "loss value 1.8214001655578613\n"
     ]
    },
    {
     "name": "stderr",
     "output_type": "stream",
     "text": [
      " 72%|████████████████████████████████████████████████████████▏                     | 2701/3750 [05:56<02:14,  7.79it/s]"
     ]
    },
    {
     "name": "stdout",
     "output_type": "stream",
     "text": [
      "loss value 1.8678301572799683\n"
     ]
    },
    {
     "name": "stderr",
     "output_type": "stream",
     "text": [
      " 75%|██████████████████████████████████████████████████████████▎                   | 2801/3750 [06:09<02:03,  7.66it/s]"
     ]
    },
    {
     "name": "stdout",
     "output_type": "stream",
     "text": [
      "loss value 1.775052785873413\n"
     ]
    },
    {
     "name": "stderr",
     "output_type": "stream",
     "text": [
      " 77%|████████████████████████████████████████████████████████████▎                 | 2901/3750 [06:22<01:48,  7.85it/s]"
     ]
    },
    {
     "name": "stdout",
     "output_type": "stream",
     "text": [
      "loss value 1.2771408557891846\n"
     ]
    },
    {
     "name": "stderr",
     "output_type": "stream",
     "text": [
      " 80%|██████████████████████████████████████████████████████████████▍               | 3001/3750 [06:35<01:33,  7.98it/s]"
     ]
    },
    {
     "name": "stdout",
     "output_type": "stream",
     "text": [
      "loss value 1.5454672574996948\n"
     ]
    },
    {
     "name": "stderr",
     "output_type": "stream",
     "text": [
      " 83%|████████████████████████████████████████████████████████████████▌             | 3101/3750 [06:48<01:24,  7.64it/s]"
     ]
    },
    {
     "name": "stdout",
     "output_type": "stream",
     "text": [
      "loss value 2.0214483737945557\n"
     ]
    },
    {
     "name": "stderr",
     "output_type": "stream",
     "text": [
      " 85%|██████████████████████████████████████████████████████████████████▌           | 3201/3750 [07:02<01:15,  7.27it/s]"
     ]
    },
    {
     "name": "stdout",
     "output_type": "stream",
     "text": [
      "loss value 1.160677194595337\n"
     ]
    },
    {
     "name": "stderr",
     "output_type": "stream",
     "text": [
      " 88%|████████████████████████████████████████████████████████████████████▋         | 3301/3750 [07:15<00:55,  8.15it/s]"
     ]
    },
    {
     "name": "stdout",
     "output_type": "stream",
     "text": [
      "loss value 1.8423734903335571\n"
     ]
    },
    {
     "name": "stderr",
     "output_type": "stream",
     "text": [
      " 91%|██████████████████████████████████████████████████████████████████████▋       | 3401/3750 [07:28<00:52,  6.59it/s]"
     ]
    },
    {
     "name": "stdout",
     "output_type": "stream",
     "text": [
      "loss value 2.025294303894043\n"
     ]
    },
    {
     "name": "stderr",
     "output_type": "stream",
     "text": [
      " 93%|████████████████████████████████████████████████████████████████████████▊     | 3501/3750 [07:41<00:32,  7.77it/s]"
     ]
    },
    {
     "name": "stdout",
     "output_type": "stream",
     "text": [
      "loss value 1.4978739023208618\n"
     ]
    },
    {
     "name": "stderr",
     "output_type": "stream",
     "text": [
      " 96%|██████████████████████████████████████████████████████████████████████████▉   | 3601/3750 [07:54<00:19,  7.82it/s]"
     ]
    },
    {
     "name": "stdout",
     "output_type": "stream",
     "text": [
      "loss value 0.3551052212715149\n"
     ]
    },
    {
     "name": "stderr",
     "output_type": "stream",
     "text": [
      " 99%|████████████████████████████████████████████████████████████████████████████▉ | 3701/3750 [08:08<00:06,  7.80it/s]"
     ]
    },
    {
     "name": "stdout",
     "output_type": "stream",
     "text": [
      "loss value 0.8565850257873535\n"
     ]
    },
    {
     "name": "stderr",
     "output_type": "stream",
     "text": [
      "100%|██████████████████████████████████████████████████████████████████████████████| 3750/3750 [08:15<00:00,  7.57it/s]\n"
     ]
    }
   ],
   "source": [
    "from SHIP import TensorHauler\n",
    "from tqdm import tqdm\n",
    "\n",
    "print(\"train network - 1 epoch\")\n",
    "ii = 0\n",
    "for xx,yy in tqdm(TensorHauler(xtrain,ytrain,batch_size), total = len(ytrain)//batch_size):\n",
    "    net.run(xx)\n",
    "    tr.run(yy)\n",
    "    ii+=1\n",
    "    if ii%100 == 0:\n",
    "        print(\"loss value\", tr.loss_hist[-1])"
   ]
  },
  {
   "cell_type": "markdown",
   "id": "5887575e",
   "metadata": {},
   "source": [
    "It should be visible that the loss function (slowly) decreases with the iteration count. The loss history is also available as a **trainer** property: `trainer.loss_hist`.\n",
    "\n",
    "Now, to be sure that the training actually works, we repeat the inference simulation with the test dataset, and with the help of the **trainer** we build a confusion matrix:"
   ]
  },
  {
   "cell_type": "code",
   "execution_count": 7,
   "id": "15293144",
   "metadata": {},
   "outputs": [
    {
     "name": "stdout",
     "output_type": "stream",
     "text": [
      "get confusion matrix and accuracy\n"
     ]
    },
    {
     "name": "stderr",
     "output_type": "stream",
     "text": [
      "100%|████████████████████████████████████████████████████████████████████████████████| 250/250 [00:12<00:00, 19.67it/s]\n"
     ]
    },
    {
     "name": "stdout",
     "output_type": "stream",
     "text": [
      "accuracy = 0.506\n"
     ]
    },
    {
     "data": {
      "image/png": "[encoded data removed]",
      "text/plain": [
       "<Figure size 1200x1200 with 2 Axes>"
      ]
     },
     "metadata": {},
     "output_type": "display_data"
    }
   ],
   "source": [
    "from torch import (zeros, no_grad, eye)\n",
    "\n",
    "print(\"get confusion matrix and accuracy\")\n",
    "# get confusion matrix and accuracy        \n",
    "cm = zeros(10,10)\n",
    "with no_grad(): # no_grad avoids to unwillingly modify the gradient - \n",
    "                # do not know if it would here (should not, but I'll leave no_grad regardless)\n",
    "    for xx,yy in tqdm(TensorHauler(xtest,ytest,batch_size), total = len(ytest)//batch_size):\n",
    "        net.run(xx)\n",
    "        cm[yy,tr.get_prediction()]+=1 # get prediction calls the get_inference_data, \n",
    "                                      # and returns the indices of the peak values per-batch.\n",
    "        \n",
    "cmn = cm/cm.sum(dim=1) # normalize by sample count (per sample class)\n",
    "\n",
    "# plotting the results here\n",
    "import matplotlib.pyplot as plt\n",
    "labels = arange(10)\n",
    "f,ax = plt.subplots(1,1,dpi = 300, figsize = (4,4))   \n",
    "pp = ax.imshow(cmn,cmap = \"jet\",vmin = 0, vmax = 1); plt.colorbar(pp)\n",
    "ax.set_xticks(labels.numpy(),labels=labels.numpy())\n",
    "ax.set_ylabel('target')\n",
    "ax.set_yticks(labels.numpy(),labels=labels.numpy())\n",
    "ax.set_xlabel('prediction')\n",
    "\n",
    "# and printing the accuracy, as the sum of the confusion_matrix diagonal elements\n",
    "print(\"accuracy = %0.3f\"%((cm*eye(10)).sum()/cm.sum()))"
   ]
  },
  {
   "cell_type": "markdown",
   "id": "05455cb4",
   "metadata": {},
   "source": [
    "After one epoch, and using a limited portion of the original dataset (also reduced in resolution), we manage to find a certain degree of diagonalization of the confusion matrix, and an accuracy which should be close to 50% (this value varies with chance).\n",
    "\n",
    "\n",
    "## Conclusion\n",
    "Concluding, this part of the tutorial shows the essentials on how to train a SNN in SHIP for classification tasks. Much can be changed, from the data source, to the data encoding, to the details of how the trainer fetches, preprocesses the inference data and calculates and apply the synaptic weights update. However, the main elements are here gathered, and much more complex tasks can be derived from this simplistic example."
   ]
  }
 ],
 "metadata": {
  "kernelspec": {
   "display_name": "Python 3 (ipykernel)",
   "language": "python",
   "name": "python3"
  },
  "language_info": {
   "codemirror_mode": {
    "name": "ipython",
    "version": 3
   },
   "file_extension": ".py",
   "mimetype": "text/x-python",
   "name": "python",
   "nbconvert_exporter": "python",
   "pygments_lexer": "ipython3",
   "version": "3.9.13"
  }
 },
 "nbformat": 4,
 "nbformat_minor": 5
}
